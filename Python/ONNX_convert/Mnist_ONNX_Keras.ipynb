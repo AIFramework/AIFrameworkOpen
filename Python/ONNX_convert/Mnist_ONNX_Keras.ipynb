{
  "cells": [
    {
      "cell_type": "code",
      "execution_count": null,
      "metadata": {
        "id": "F0zQ72B7Z0Hn"
      },
      "outputs": [],
      "source": [
        "!pip install onnxruntime==1.9.0 -q\n",
        "!pip install -U tf2onnx==1.9.2 -q"
      ]
    },
    {
      "cell_type": "code",
      "execution_count": null,
      "metadata": {
        "id": "-h9Cf-yjYGWv"
      },
      "outputs": [],
      "source": [
        "import numpy as np\n",
        "from tensorflow import keras\n",
        "from tensorflow.keras import layers\n",
        "import tf2onnx\n",
        "import onnxruntime\n",
        "from sklearn.metrics import classification_report as Report\n",
        "from onnxruntime.quantization import quantize_dynamic"
      ]
    },
    {
      "cell_type": "markdown",
      "metadata": {
        "id": "sSZJqJQcYqjm"
      },
      "source": [
        "# Mnist"
      ]
    },
    {
      "cell_type": "code",
      "execution_count": null,
      "metadata": {
        "colab": {
          "base_uri": "https://localhost:8080/"
        },
        "id": "J6zV5o7GYI1t",
        "outputId": "64339c5b-a71a-43df-f26d-8511ee8356aa"
      },
      "outputs": [
        {
          "name": "stdout",
          "output_type": "stream",
          "text": [
            "Downloading data from https://storage.googleapis.com/tensorflow/tf-keras-datasets/mnist.npz\n",
            "11493376/11490434 [==============================] - 0s 0us/step\n",
            "11501568/11490434 [==============================] - 0s 0us/step\n",
            "x_train shape: (60000, 28, 28, 1)\n",
            "60000 train samples\n",
            "10000 test samples\n"
          ]
        }
      ],
      "source": [
        "# Model / data parameters\n",
        "num_classes = 10\n",
        "input_shape = (28, 28, 1)\n",
        "\n",
        "# the data, split between train and test sets\n",
        "(x_train, y_train), (x_test, y_test) = keras.datasets.mnist.load_data()\n",
        "\n",
        "# Scale images to the [0, 1] range\n",
        "x_train = x_train.astype(\"float32\") / 255\n",
        "x_test = x_test.astype(\"float32\") / 255\n",
        "# Make sure images have shape (28, 28, 1)\n",
        "x_train = np.expand_dims(x_train, -1)\n",
        "x_test = np.expand_dims(x_test, -1)\n",
        "print(\"x_train shape:\", x_train.shape)\n",
        "print(x_train.shape[0], \"train samples\")\n",
        "print(x_test.shape[0], \"test samples\")\n",
        "\n",
        "\n",
        "# convert class vectors to binary class matrices\n",
        "y_train = keras.utils.to_categorical(y_train, num_classes)\n",
        "y_test = keras.utils.to_categorical(y_test, num_classes)"
      ]
    },
    {
      "cell_type": "code",
      "execution_count": null,
      "metadata": {
        "colab": {
          "base_uri": "https://localhost:8080/"
        },
        "id": "E-uJBLuDYYgV",
        "outputId": "453f28d2-214c-4e7e-81c3-20cf1fef803b"
      },
      "outputs": [
        {
          "name": "stdout",
          "output_type": "stream",
          "text": [
            "Model: \"sequential_2\"\n",
            "_________________________________________________________________\n",
            "Layer (type)                 Output Shape              Param #   \n",
            "=================================================================\n",
            "conv2d_6 (Conv2D)            (None, 26, 26, 32)        320       \n",
            "_________________________________________________________________\n",
            "max_pooling2d_6 (MaxPooling2 (None, 13, 13, 32)        0         \n",
            "_________________________________________________________________\n",
            "conv2d_7 (Conv2D)            (None, 11, 11, 64)        18496     \n",
            "_________________________________________________________________\n",
            "max_pooling2d_7 (MaxPooling2 (None, 5, 5, 64)          0         \n",
            "_________________________________________________________________\n",
            "conv2d_8 (Conv2D)            (None, 3, 3, 64)          36928     \n",
            "_________________________________________________________________\n",
            "max_pooling2d_8 (MaxPooling2 (None, 1, 1, 64)          0         \n",
            "_________________________________________________________________\n",
            "batch_normalization_2 (Batch (None, 1, 1, 64)          256       \n",
            "_________________________________________________________________\n",
            "flatten_2 (Flatten)          (None, 64)                0         \n",
            "_________________________________________________________________\n",
            "dense_3 (Dense)              (None, 10)                650       \n",
            "=================================================================\n",
            "Total params: 56,650\n",
            "Trainable params: 56,522\n",
            "Non-trainable params: 128\n",
            "_________________________________________________________________\n"
          ]
        }
      ],
      "source": [
        "model = keras.Sequential(\n",
        "    [\n",
        "        keras.Input(shape=input_shape),\n",
        "        layers.Conv2D(32, kernel_size=(3, 3), activation=\"relu\"),\n",
        "        layers.MaxPooling2D(pool_size=(2, 2)),\n",
        "     \n",
        "        layers.Conv2D(64, kernel_size=(3, 3), activation=\"relu\"),\n",
        "        layers.MaxPooling2D(pool_size=(2, 2)),\n",
        "        \n",
        "        layers.Conv2D(64, kernel_size=(3, 3), activation=\"relu\"),\n",
        "        layers.MaxPooling2D(pool_size=(2, 2)),\n",
        "        \n",
        "        layers.BatchNormalization(),\n",
        "        layers.Flatten(),\n",
        "        \n",
        "        layers.Dense(num_classes, activation=\"softmax\"),\n",
        "    ]\n",
        ")\n",
        "\n",
        "model.summary()"
      ]
    },
    {
      "cell_type": "code",
      "execution_count": null,
      "metadata": {
        "colab": {
          "base_uri": "https://localhost:8080/"
        },
        "id": "Ptzrd1eqYcE3",
        "outputId": "56051975-f4fa-418b-b2f1-63086a9f0689"
      },
      "outputs": [
        {
          "name": "stdout",
          "output_type": "stream",
          "text": [
            "Epoch 1/10\n",
            "211/211 [==============================] - 35s 16ms/step - loss: 0.2751 - accuracy: 0.9275 - val_loss: 0.7320 - val_accuracy: 0.9578\n",
            "Epoch 2/10\n",
            "211/211 [==============================] - 3s 14ms/step - loss: 0.0764 - accuracy: 0.9799 - val_loss: 0.1043 - val_accuracy: 0.9788\n",
            "Epoch 3/10\n",
            "211/211 [==============================] - 3s 14ms/step - loss: 0.0513 - accuracy: 0.9863 - val_loss: 0.0595 - val_accuracy: 0.9822\n",
            "Epoch 4/10\n",
            "211/211 [==============================] - 3s 15ms/step - loss: 0.0389 - accuracy: 0.9893 - val_loss: 0.0583 - val_accuracy: 0.9827\n",
            "Epoch 5/10\n",
            "211/211 [==============================] - 3s 14ms/step - loss: 0.0296 - accuracy: 0.9918 - val_loss: 0.0548 - val_accuracy: 0.9837\n",
            "Epoch 6/10\n",
            "211/211 [==============================] - 3s 14ms/step - loss: 0.0237 - accuracy: 0.9934 - val_loss: 0.0442 - val_accuracy: 0.9862\n",
            "Epoch 7/10\n",
            "211/211 [==============================] - 3s 14ms/step - loss: 0.0187 - accuracy: 0.9953 - val_loss: 0.0438 - val_accuracy: 0.9867\n",
            "Epoch 8/10\n",
            "211/211 [==============================] - 3s 14ms/step - loss: 0.0155 - accuracy: 0.9957 - val_loss: 0.0385 - val_accuracy: 0.9893\n",
            "Epoch 9/10\n",
            "211/211 [==============================] - 3s 14ms/step - loss: 0.0112 - accuracy: 0.9972 - val_loss: 0.0373 - val_accuracy: 0.9897\n",
            "Epoch 10/10\n",
            "211/211 [==============================] - 3s 14ms/step - loss: 0.0084 - accuracy: 0.9981 - val_loss: 0.0531 - val_accuracy: 0.9867\n"
          ]
        },
        {
          "data": {
            "text/plain": [
              "<keras.callbacks.History at 0x7f0a40212650>"
            ]
          },
          "execution_count": 7,
          "metadata": {},
          "output_type": "execute_result"
        }
      ],
      "source": [
        "batch_size = 256\n",
        "epochs = 10\n",
        "\n",
        "model.compile(loss=\"categorical_crossentropy\", optimizer=\"adam\", metrics=[\"accuracy\"])\n",
        "\n",
        "model.fit(x_train, y_train, batch_size=batch_size, epochs=epochs, validation_split=0.1)"
      ]
    },
    {
      "cell_type": "code",
      "execution_count": null,
      "metadata": {
        "colab": {
          "base_uri": "https://localhost:8080/"
        },
        "id": "Fn9WPMCEYm8m",
        "outputId": "730d093b-a016-4238-a0dd-c5dfc533c875"
      },
      "outputs": [
        {
          "name": "stdout",
          "output_type": "stream",
          "text": [
            "Test loss: 0.054995469748973846\n",
            "Test accuracy: 0.9811000227928162\n"
          ]
        }
      ],
      "source": [
        "score = model.evaluate(x_test, y_test, verbose=0)\n",
        "print(\"Test loss:\", score[0])\n",
        "print(\"Test accuracy:\", score[1])"
      ]
    },
    {
      "cell_type": "markdown",
      "metadata": {
        "id": "_EHHRNZgY9CW"
      },
      "source": [
        "# Convert to ONNX"
      ]
    },
    {
      "cell_type": "code",
      "execution_count": null,
      "metadata": {
        "colab": {
          "base_uri": "https://localhost:8080/"
        },
        "id": "NBagkfhBY_qp",
        "outputId": "8d1900d3-ca7b-4e9d-89c5-891477091e35"
      },
      "outputs": [],
      "source": [
        "# Конвертирование\n",
        "onnx_model, _ = tf2onnx.convert.from_keras(model=model)"
      ]
    },
    {
      "cell_type": "code",
      "execution_count": null,
      "metadata": {
        "colab": {
          "base_uri": "https://localhost:8080/"
        },
        "id": "TqIZojOySJIY",
        "outputId": "6d7b262c-43c7-4b1c-821a-2526dc120273"
      },
      "outputs": [],
      "source": [
        "onnx_model"
      ]
    },
    {
      "cell_type": "code",
      "execution_count": null,
      "metadata": {
        "id": "hWZobAtdmtg_"
      },
      "outputs": [],
      "source": [
        "tf2onnx.onnx.save_model(onnx_model, 'model.onnx')"
      ]
    },
    {
      "cell_type": "markdown",
      "metadata": {
        "id": "qCpgiJIdqCtl"
      },
      "source": [
        "# Onnx"
      ]
    },
    {
      "cell_type": "code",
      "execution_count": null,
      "metadata": {
        "id": "5rYIViwxp4th"
      },
      "outputs": [],
      "source": [
        "sess = onnxruntime.InferenceSession('model.onnx')"
      ]
    },
    {
      "cell_type": "code",
      "execution_count": null,
      "metadata": {
        "colab": {
          "base_uri": "https://localhost:8080/"
        },
        "id": "Q8LGdWqKCiFJ",
        "outputId": "67a14976-32dc-4414-c09f-0aa59bcb148d"
      },
      "outputs": [
        {
          "name": "stdout",
          "output_type": "stream",
          "text": [
            "input_1\n"
          ]
        }
      ],
      "source": [
        "inputs = sess.get_inputs()\n",
        "for inp in inputs:\n",
        "  print(inp.name)"
      ]
    },
    {
      "cell_type": "code",
      "execution_count": null,
      "metadata": {
        "id": "JyBNGeHysSBx"
      },
      "outputs": [],
      "source": [
        "def OnnxTest(x_test, y_test, sess):\n",
        "  input_name = sess.get_inputs()[0].name\n",
        "  output_name = sess.get_outputs()[0].name\n",
        "  outp = sess.run([output_name], {input_name: x_test})\n",
        "\n",
        "  class_pred = []\n",
        "  for prob in outp[0]:\n",
        "    class_pred.append(np.argmax(prob))\n",
        "\n",
        "  class_real = []\n",
        "  for real in y_test:\n",
        "    class_real.append(np.argmax(real))\n",
        "\n",
        "  print(Report(class_real, class_pred))"
      ]
    },
    {
      "cell_type": "code",
      "execution_count": null,
      "metadata": {
        "colab": {
          "base_uri": "https://localhost:8080/"
        },
        "id": "1K0ZcRfpsXk5",
        "outputId": "54a1062e-11b1-4570-9349-1bb54b47ce15"
      },
      "outputs": [
        {
          "name": "stdout",
          "output_type": "stream",
          "text": [
            "              precision    recall  f1-score   support\n",
            "\n",
            "           0       0.99      0.99      0.99       980\n",
            "           1       1.00      1.00      1.00      1135\n",
            "           2       0.99      0.99      0.99      1032\n",
            "           3       0.99      0.99      0.99      1010\n",
            "           4       1.00      0.99      1.00       982\n",
            "           5       0.99      0.99      0.99       892\n",
            "           6       0.99      0.99      0.99       958\n",
            "           7       0.98      1.00      0.99      1028\n",
            "           8       0.99      0.99      0.99       974\n",
            "           9       0.99      0.99      0.99      1009\n",
            "\n",
            "    accuracy                           0.99     10000\n",
            "   macro avg       0.99      0.99      0.99     10000\n",
            "weighted avg       0.99      0.99      0.99     10000\n",
            "\n"
          ]
        }
      ],
      "source": [
        "OnnxTest(x_test, y_test, sess)"
      ]
    },
    {
      "cell_type": "markdown",
      "metadata": {
        "id": "EteymzqDEllg"
      },
      "source": [
        "# Квантование"
      ]
    },
    {
      "cell_type": "code",
      "execution_count": null,
      "metadata": {
        "colab": {
          "base_uri": "https://localhost:8080/"
        },
        "id": "3g0RSAYvElJ5",
        "outputId": "ed019330-b733-48b4-f5ad-9449d547d42e"
      },
      "outputs": [
        {
          "name": "stderr",
          "output_type": "stream",
          "text": [
            "WARNING:root:The original model opset version is 9, which does not support quantization. Please update the model to opset >= 11. Updating the model automatically to opset 11. Please verify the quantized model.\n"
          ]
        }
      ],
      "source": [
        "quantize_dynamic('/content/model.onnx', '/content/model_q.onnx')"
      ]
    },
    {
      "cell_type": "code",
      "execution_count": null,
      "metadata": {
        "id": "grglCzKRINmD"
      },
      "outputs": [],
      "source": [
        "sess_q = onnxruntime.InferenceSession('model_q.onnx')"
      ]
    },
    {
      "cell_type": "code",
      "execution_count": null,
      "metadata": {
        "colab": {
          "base_uri": "https://localhost:8080/"
        },
        "id": "_hY5TJ3WITC7",
        "outputId": "261980d3-6223-4bd2-96ce-4b6f95296854"
      },
      "outputs": [
        {
          "name": "stdout",
          "output_type": "stream",
          "text": [
            "              precision    recall  f1-score   support\n",
            "\n",
            "           0       0.99      0.98      0.98       980\n",
            "           1       0.99      1.00      0.99      1135\n",
            "           2       0.97      0.99      0.98      1032\n",
            "           3       0.99      0.99      0.99      1010\n",
            "           4       0.99      0.98      0.98       982\n",
            "           5       0.99      0.96      0.97       892\n",
            "           6       0.99      0.98      0.99       958\n",
            "           7       0.99      0.96      0.97      1028\n",
            "           8       0.98      0.99      0.98       974\n",
            "           9       0.93      0.99      0.96      1009\n",
            "\n",
            "    accuracy                           0.98     10000\n",
            "   macro avg       0.98      0.98      0.98     10000\n",
            "weighted avg       0.98      0.98      0.98     10000\n",
            "\n"
          ]
        }
      ],
      "source": [
        "OnnxTest(x_test, y_test, sess_q)"
      ]
    }
  ],
  "metadata": {
    "colab": {
      "collapsed_sections": [],
      "name": "Mnist onnx.ipynb",
      "provenance": []
    },
    "kernelspec": {
      "display_name": "Python 3",
      "name": "python3"
    },
    "language_info": {
      "name": "python"
    }
  },
  "nbformat": 4,
  "nbformat_minor": 0
}
